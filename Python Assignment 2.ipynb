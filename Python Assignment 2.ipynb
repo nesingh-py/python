{
 "cells": [
  {
   "cell_type": "markdown",
   "metadata": {},
   "source": [
    "Task-1: 1.1 Write myreduce func()"
   ]
  },
  {
   "cell_type": "code",
   "execution_count": 21,
   "metadata": {},
   "outputs": [
    {
     "data": {
      "text/plain": [
       "10"
      ]
     },
     "execution_count": 21,
     "metadata": {},
     "output_type": "execute_result"
    }
   ],
   "source": [
    "def sum(a,b):\n",
    "    return(a+b)\n",
    "def myreduce(fun, x):\n",
    "    fun1=x[0]\n",
    "    for i in x[1:]:\n",
    "        fun1=fun(fun1,i)\n",
    "    return(fun1)\n",
    "        \n",
    "myreduce(sum,[1,2,3,4])  "
   ]
  },
  {
   "cell_type": "markdown",
   "metadata": {},
   "source": [
    "Task-1: 1.2 Write myfilter func()"
   ]
  },
  {
   "cell_type": "code",
   "execution_count": 25,
   "metadata": {},
   "outputs": [
    {
     "data": {
      "text/plain": [
       "[2, None, 4, None, 6, None, 8]"
      ]
     },
     "execution_count": 25,
     "metadata": {},
     "output_type": "execute_result"
    }
   ],
   "source": [
    "def even(x):\n",
    "    if x%2==0:\n",
    "        return(x)\n",
    "    \n",
    "def myfilter(func,y):\n",
    "    z=[]\n",
    "    for i in y:\n",
    "        z.append(func(i))\n",
    "    return(z)    \n",
    "\n",
    "myfilter(even,[2,3,4,5,6,7,8])"
   ]
  },
  {
   "cell_type": "markdown",
   "metadata": {},
   "source": [
    "Task-1: 2 Implement lists"
   ]
  },
  {
   "cell_type": "markdown",
   "metadata": {},
   "source": [
    "['x',\"xx\",\"xxx\",\"xxxx\",y,yy,yyy,yyyy,z.............]"
   ]
  },
  {
   "cell_type": "code",
   "execution_count": 1,
   "metadata": {},
   "outputs": [
    {
     "name": "stdout",
     "output_type": "stream",
     "text": [
      "['x', 'xx', 'xxx', 'xxxx', 'y', 'yy', 'yyy', 'yyyy', 'z', 'zz', 'zzz', 'zzzz']\n"
     ]
    }
   ],
   "source": [
    "a=[\"x\",\"y\",\"z\"]\n",
    "b=[]\n",
    "for i in a:\n",
    "    m=1\n",
    "    while  m<5:\n",
    "        b.append(i*m)\n",
    "        m=m+1       \n",
    "print(b)                "
   ]
  },
  {
   "cell_type": "markdown",
   "metadata": {},
   "source": [
    "[x,y,z,xx,yy,zz,xx,yy,zz,xxxx,yyyy,zzzz]"
   ]
  },
  {
   "cell_type": "code",
   "execution_count": 2,
   "metadata": {},
   "outputs": [
    {
     "name": "stdout",
     "output_type": "stream",
     "text": [
      "['x', 'y', 'z', 'xx', 'yy', 'zz', 'xx', 'yy', 'zz', 'xxxx', 'yyyy', 'zzzz']\n"
     ]
    }
   ],
   "source": [
    "c=[1,2,2,4]\n",
    "d=['x','y','z']\n",
    "e=[]\n",
    "for i in c:\n",
    "    for j in d:\n",
    "        e.append(i*j)\n",
    "    \n",
    "print(e)   "
   ]
  },
  {
   "cell_type": "markdown",
   "metadata": {},
   "source": [
    "[[2],[3],[4],[3],[4],[5],[4],[5],[6]]"
   ]
  },
  {
   "cell_type": "code",
   "execution_count": 3,
   "metadata": {},
   "outputs": [
    {
     "name": "stdout",
     "output_type": "stream",
     "text": [
      "[[2], [3], [4], [3], [4], [5], [4], [5], [6]]\n"
     ]
    }
   ],
   "source": [
    "f=[]\n",
    "m=3\n",
    "for i in range(2,5):\n",
    "    f.append([i])\n",
    "    f.append([i+1])\n",
    "    f.append([i+2])\n",
    "    \n",
    "    \n",
    "print(f)   "
   ]
  },
  {
   "cell_type": "markdown",
   "metadata": {},
   "source": [
    "[[2,3,4,5],[3,4,5,6],[4,5,6,7],[5,6,7,8]]"
   ]
  },
  {
   "cell_type": "code",
   "execution_count": 4,
   "metadata": {},
   "outputs": [
    {
     "name": "stdout",
     "output_type": "stream",
     "text": [
      "[[2, 3, 4, 5], [3, 4, 5, 6], [4, 5, 6, 7], [5, 6, 7, 8]]\n"
     ]
    }
   ],
   "source": [
    "h=[]\n",
    "m=2\n",
    "for i in range(2,6):\n",
    "    g=[]\n",
    "   \n",
    "    for j in range(2,6):\n",
    "        g.append(m)\n",
    "        \n",
    "        m=m+1\n",
    "        \n",
    "    m=m-3\n",
    "    h.append(g)\n",
    "print(h)"
   ]
  },
  {
   "cell_type": "markdown",
   "metadata": {},
   "source": [
    "[(1,1),(2,1),(3,1),(1,2),(2,2),(3,2),(1,3),(2,3),(3,3))"
   ]
  },
  {
   "cell_type": "code",
   "execution_count": 5,
   "metadata": {},
   "outputs": [
    {
     "name": "stdout",
     "output_type": "stream",
     "text": [
      "[[1, 1, 2, 1, 3, 1], [1, 2, 2, 2, 3, 2], [1, 3, 2, 3, 3, 3]]\n"
     ]
    }
   ],
   "source": [
    "k=[1,2,3]\n",
    "n=[]\n",
    "for i in k:\n",
    "    l=[]\n",
    "    for j in range(1,4):\n",
    "        l.append(j)\n",
    "        l.append(i)\n",
    "        \n",
    "    n.append((l))    \n",
    "print(n)        "
   ]
  },
  {
   "cell_type": "markdown",
   "metadata": {},
   "source": [
    "Assignment 2:Task-1: 3 Write function longest word to return longest word."
   ]
  },
  {
   "cell_type": "code",
   "execution_count": 10,
   "metadata": {},
   "outputs": [
    {
     "name": "stdout",
     "output_type": "stream",
     "text": [
      "Enter list of words separated by comma   a,dd,eeee,ffffff,ee\n"
     ]
    },
    {
     "data": {
      "text/plain": [
       "'ffffff'"
      ]
     },
     "execution_count": 10,
     "metadata": {},
     "output_type": "execute_result"
    }
   ],
   "source": [
    "word=input(\"Enter list of words separated by comma   \")\n",
    "word1=word.split(\",\")\n",
    "def long_word(x):\n",
    "    m=0\n",
    "    n=0\n",
    "    for i in x:\n",
    "        if n<len(i):\n",
    "            n=len(i)\n",
    "            m=i\n",
    "    return(m)\n",
    "long_word(word1)\n"
   ]
  },
  {
   "cell_type": "markdown",
   "metadata": {},
   "source": [
    "Assignment 2: Task-2: 1.1: Write a python program class concept to find the area of triangle using below formula. area= (s*(s-a)*(s-b)*(s-c))**0.5"
   ]
  },
  {
   "cell_type": "code",
   "execution_count": 17,
   "metadata": {},
   "outputs": [
    {
     "name": "stdout",
     "output_type": "stream",
     "text": [
      "Enter length of triangle3\n",
      "Enter width of triangle4\n",
      "Enter height of triangle5\n",
      "6.0\n"
     ]
    }
   ],
   "source": [
    "class triangle_area:\n",
    "    l1=int(input(\"Enter length of triangle\"))\n",
    "    l2=int(input(\"Enter width of triangle\"))\n",
    "    l3=int(input(\"Enter height of triangle\"))\n",
    "    def area_isoceles(a,b,c):\n",
    "        s=(a+b+c)/2\n",
    "        s1=(s*(s-a)*(s-b)*(s-c))**0.5\n",
    "        print(s1)\n",
    "        return(s1)\n",
    "    area_isoceles(l1,l2,l3)"
   ]
  },
  {
   "cell_type": "markdown",
   "metadata": {},
   "source": [
    "Assignment-2: Task-2: \n",
    "2.1 Write a python program using a function concept that maps a list of words into a list of integers representing the length of corresponding words."
   ]
  },
  {
   "cell_type": "code",
   "execution_count": 18,
   "metadata": {},
   "outputs": [
    {
     "name": "stdout",
     "output_type": "stream",
     "text": [
      "Enter a list of words separated by commasww,eeee,rrrrrr,tttttttttt,ss\n",
      "['ww', 'eeee', 'rrrrrr', 'tttttttttt', 'ss']\n"
     ]
    },
    {
     "data": {
      "text/plain": [
       "[2, 4, 6, 10, 2]"
      ]
     },
     "execution_count": 18,
     "metadata": {},
     "output_type": "execute_result"
    }
   ],
   "source": [
    "list1=input(\"Enter a list of words separated by commas\")\n",
    "list2=list1.split(\",\")\n",
    "print(list2)\n",
    "list3=[]\n",
    "for i in list2:\n",
    "    list3.append(len(i))\n",
    "list3    "
   ]
  },
  {
   "cell_type": "markdown",
   "metadata": {},
   "source": [
    "nment-2: Task-2: \n",
    "2.2 Write a python function which takes a character (i.e. a string of length 1 and return True if it is a vowel."
   ]
  },
  {
   "cell_type": "code",
   "execution_count": 20,
   "metadata": {},
   "outputs": [
    {
     "name": "stdout",
     "output_type": "stream",
     "text": [
      "Enter a alphabet :  h\n",
      "False\n"
     ]
    }
   ],
   "source": [
    "def vowel(a):\n",
    "    if (a==\"A\" or a==\"E\" or a==\"I\" or a==\"O\" or a==\"U\"):\n",
    "        print(\"True\")\n",
    "    else:\n",
    "        print(\"False\")\n",
    "x=input(\"Enter a alphabet :  \").upper()\n",
    "vowel(x)"
   ]
  },
  {
   "cell_type": "code",
   "execution_count": null,
   "metadata": {},
   "outputs": [],
   "source": []
  }
 ],
 "metadata": {
  "kernelspec": {
   "display_name": "Python 3",
   "language": "python",
   "name": "python3"
  },
  "language_info": {
   "codemirror_mode": {
    "name": "ipython",
    "version": 3
   },
   "file_extension": ".py",
   "mimetype": "text/x-python",
   "name": "python",
   "nbconvert_exporter": "python",
   "pygments_lexer": "ipython3",
   "version": "3.7.6"
  }
 },
 "nbformat": 4,
 "nbformat_minor": 4
}
